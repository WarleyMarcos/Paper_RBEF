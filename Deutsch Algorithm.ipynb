{
 "cells": [
  {
   "cell_type": "code",
   "execution_count": 26,
   "source": [
    "#--------------------------------------\r\n",
    "# FUNCAO QUE MONTA O CIRCUITO DE DEUTSCH\r\n",
    "# USANDO 1 REGISTRO CLASSICO NO MEDIDOR\r\n",
    "#--------------------------------------\r\n",
    "def DEUTSCH_CNOT_1():\r\n",
    "    from qiskit import QuantumRegister, ClassicalRegister, QuantumCircuit\r\n",
    "#-----------------\r\n",
    "    Q  = QuantumRegister(  2, name = 'q')\r\n",
    "    C  = ClassicalRegister(1, name = 'c')\r\n",
    "    QC = QuantumCircuit(Q, C, name = \"DEUTSCH_1\")\r\n",
    "#-----------------\r\n",
    "    QC.x(Q[0])\r\n",
    "    QC.barrier()\r\n",
    "    QC.h(Q)\r\n",
    "    QC.cx(Q[1], Q[0])\r\n",
    "    QC.h(Q[1])\r\n",
    "    QC.measure(Q[1],C[0])\r\n",
    "    print(' DEUTSCH_1(): FUNCIONA')\r\n",
    "    return QC\r\n",
    "#--------------------------------------\r\n",
    "# FUNCAO QUE MONTA O CIRCUITO DE DEUTSCH\r\n",
    "# USANDO 2 REGISTROS CLASSICO NO MEDIDOR\r\n",
    "#--------------------------------------\r\n",
    "def DEUTSCH_CNOT_2():\r\n",
    "    from qiskit import QuantumRegister, ClassicalRegister, QuantumCircuit;\r\n",
    "#-----------------\r\n",
    "    Q  = QuantumRegister(  2, name = 'q')\r\n",
    "    C  = ClassicalRegister(2, name = 'c')\r\n",
    "    QC = QuantumCircuit(Q, C, name = \"DEUTSCH_2\")\r\n",
    "#-----------------\r\n",
    "    QC.x(Q[0])\r\n",
    "    QC.barrier()\r\n",
    "    QC.h(Q)\r\n",
    "    QC.cx(Q[1], Q[0])\r\n",
    "    QC.h(Q[1])\r\n",
    "    QC.measure(Q,C)\r\n",
    "    print(' DEUTSCH_2(): FUNCIONA')\r\n",
    "    return QC"
   ],
   "outputs": [],
   "metadata": {}
  },
  {
   "cell_type": "code",
   "execution_count": 27,
   "source": [
    "QC1 = DEUTSCH_CNOT_1()\r\n",
    "QC2 = DEUTSCH_CNOT_2()"
   ],
   "outputs": [
    {
     "output_type": "stream",
     "name": "stdout",
     "text": [
      " DEUTSCH_1(): FUNCIONA\n",
      " DEUTSCH_2(): FUNCIONA\n"
     ]
    }
   ],
   "metadata": {}
  },
  {
   "cell_type": "code",
   "execution_count": 28,
   "source": [
    "print(QC1); print(QC2);"
   ],
   "outputs": [
    {
     "output_type": "stream",
     "name": "stdout",
     "text": [
      "        ┌───┐ ░ ┌───┐┌───┐        \n",
      "q_0: |0>┤ X ├─░─┤ H ├┤ X ├────────\n",
      "        └───┘ ░ ├───┤└─┬─┘┌───┐┌─┐\n",
      "q_1: |0>──────░─┤ H ├──■──┤ H ├┤M├\n",
      "              ░ └───┘     └───┘└╥┘\n",
      " c_0: 0 ════════════════════════╩═\n",
      "                                  \n",
      "        ┌───┐ ░ ┌───┐┌───┐┌─┐        \n",
      "q_0: |0>┤ X ├─░─┤ H ├┤ X ├┤M├────────\n",
      "        └───┘ ░ ├───┤└─┬─┘└╥┘┌───┐┌─┐\n",
      "q_1: |0>──────░─┤ H ├──■───╫─┤ H ├┤M├\n",
      "              ░ └───┘      ║ └───┘└╥┘\n",
      " c_0: 0 ═══════════════════╩═══════╬═\n",
      "                                   ║ \n",
      " c_1: 0 ═══════════════════════════╩═\n",
      "                                     \n"
     ]
    }
   ],
   "metadata": {}
  },
  {
   "cell_type": "code",
   "execution_count": 29,
   "source": [
    "QC1.draw(output='mpl')"
   ],
   "outputs": [
    {
     "output_type": "execute_result",
     "data": {
      "image/png": "[encoded data removed]",
      "text/plain": [
       "<Figure size 517.72x204.68 with 1 Axes>"
      ]
     },
     "metadata": {},
     "execution_count": 29
    }
   ],
   "metadata": {}
  },
  {
   "cell_type": "code",
   "execution_count": 30,
   "source": [
    "QC2.draw(output='mpl')"
   ],
   "outputs": [
    {
     "output_type": "execute_result",
     "data": {
      "image/png": "[encoded data removed]",
      "text/plain": [
       "<Figure size 577.92x204.68 with 1 Axes>"
      ]
     },
     "metadata": {},
     "execution_count": 30
    }
   ],
   "metadata": {}
  },
  {
   "cell_type": "code",
   "execution_count": 6,
   "source": [
    "#------------------------------------------------------------------------\r\n",
    "# FUNCAO PARA CRIAR O HISTOGRAMA:\r\n",
    "#------------------------------------------------------------------------\r\n",
    "def PLOT_HISTOGRAMS( DATA, LEGEND ):\r\n",
    "    from qiskit.tools.visualization import plot_histogram\r\n",
    "    HIST = plot_histogram( DATA, legend = LEGEND, bar_labels = True, figsize = (7, 5), color= ['red','green','gray']  )\r\n",
    "    display(HIST)\r\n",
    "    return None"
   ],
   "outputs": [],
   "metadata": {}
  },
  {
   "cell_type": "code",
   "execution_count": 7,
   "source": [
    "#------------------------------------------------------------------------\r\n",
    "# FUNCAO QUE EXECUTA O CIRCUITO NA MAQUINA LOCAL:\r\n",
    "#------------------------------------------------------------------------\r\n",
    "def SIMULADOR_LOCAL(QC, N_SHOTS, BACKEND_NAME):\r\n",
    "    from qiskit  import Aer\r\n",
    "    from qiskit  import execute\r\n",
    "#--------------\r\n",
    "    F_NAME = '\\'SIMULADOR_LOCAL()\\''\r\n",
    "    BACKEND = Aer.get_backend(BACKEND_NAME)\r\n",
    "#-----------------------------------------------------------------------\r\n",
    "    EXP = execute(QC, BACKEND, shots=N_SHOTS)\r\n",
    "    RESULT = EXP.result()\r\n",
    "    print(' RESULTS:')\r\n",
    "    print('   backend_name:', RESULT.backend_name, end =' | ')\r\n",
    "    print('   status:',       RESULT.status, end =' | ')\r\n",
    "    print('   success:',      RESULT.success)\r\n",
    "    print('   get_counts():', RESULT.get_counts() ) \r\n",
    "#-----------------------------------------------------------------------\r\n",
    "    print(' ---------- FIM DA FUNCAO %s---------- '% F_NAME)\r\n",
    "    return RESULT.get_counts()"
   ],
   "outputs": [],
   "metadata": {}
  },
  {
   "cell_type": "code",
   "execution_count": 8,
   "source": [
    "# EXECUTANDO/SIMULANDO O CIRCUITO\r\n",
    "\r\n",
    "N_SHOTS = 2**(13)\r\n",
    "BACKEND_NAME = \"qasm_simulator\"\r\n",
    "\r\n",
    "DADOS_1 = SIMULADOR_LOCAL(QC1, N_SHOTS, BACKEND_NAME)\r\n",
    "DADOS_2 = SIMULADOR_LOCAL(QC2, N_SHOTS, BACKEND_NAME)\r\n",
    "\r\n",
    "PLOT_HISTOGRAMS( [DADOS_1],  [BACKEND_NAME+' QC1'] )\r\n",
    "PLOT_HISTOGRAMS( [DADOS_2],  [BACKEND_NAME+' QC2'] )"
   ],
   "outputs": [
    {
     "output_type": "stream",
     "name": "stdout",
     "text": [
      " RESULTS:\n",
      "   backend_name: qasm_simulator |   status: COMPLETED |   success: True\n",
      "   get_counts(): {'1': 8192}\n",
      " ---------- FIM DA FUNCAO 'SIMULADOR_LOCAL()'---------- \n",
      " RESULTS:\n",
      "   backend_name: qasm_simulator |   status: COMPLETED |   success: True\n",
      "   get_counts(): {'10': 4161, '11': 4031}\n",
      " ---------- FIM DA FUNCAO 'SIMULADOR_LOCAL()'---------- \n"
     ]
    },
    {
     "output_type": "display_data",
     "data": {
      "image/png": "[encoded data removed]",
      "text/plain": [
       "<Figure size 504x360 with 1 Axes>"
      ]
     },
     "metadata": {}
    },
    {
     "output_type": "display_data",
     "data": {
      "image/png": "[encoded data removed]",
      "text/plain": [
       "<Figure size 504x360 with 1 Axes>"
      ]
     },
     "metadata": {}
    }
   ],
   "metadata": {}
  },
  {
   "cell_type": "code",
   "execution_count": 9,
   "source": [
    "import matplotlib.pyplot as plt\r\n",
    "from qiskit.tools.visualization import plot_histogram"
   ],
   "outputs": [],
   "metadata": {}
  },
  {
   "cell_type": "code",
   "execution_count": 10,
   "source": [
    "fig = plot_histogram( [DADOS_1], bar_labels = False, color='blue', figsize = (10, 6) )\r\n",
    "ax = fig.axes[0]\r\n",
    "ax.patch.set_facecolor('white')\r\n",
    "ax.patch.set_alpha(0.5)\r\n",
    "ax.patch.set_edgecolor('black')\r\n",
    "ax.set_ylabel('Probabilidades', fontsize=26)\r\n",
    "ax.set_yticklabels([0.00, 0.25, 0.50, 0.75, 1.00], fontsize=20)\r\n",
    "ax.set_xticklabels([ r'$\\left\\vert 1 \\right\\rangle$' ], fontsize=20)\r\n",
    "fig.savefig('Hist_SC_one_deutsch.png')"
   ],
   "outputs": [],
   "metadata": {}
  },
  {
   "cell_type": "code",
   "execution_count": 20,
   "source": [
    "fig = plot_histogram( [DADOS_2], bar_labels = False, color='blue', figsize = (10, 6) )\r\n",
    "ax = fig.axes[0]\r\n",
    "ax.patch.set_facecolor('white')\r\n",
    "ax.patch.set_alpha(0.5)\r\n",
    "ax.patch.set_edgecolor('black')\r\n",
    "ax.set_ylabel('Probabilidades', fontsize=26)\r\n",
    "ax.set_yticklabels([0.00, 0.15, 0.30, 0.45, 0.60], fontsize=20)\r\n",
    "ax.set_xticklabels([ r'$\\left\\vert10\\right\\rangle$', r'$\\left\\vert11\\right\\rangle$' ], fontsize=20)\r\n",
    "fig.savefig('Hist_SC_two_deutsch.png')"
   ],
   "outputs": [],
   "metadata": {}
  },
  {
   "cell_type": "code",
   "execution_count": 13,
   "source": [
    "#------------------------------------------------------------------------\r\n",
    "# FUNCAO PARA SE REGISTRAR NA IBM:\r\n",
    "#------------------------------------------------------------------------\r\n",
    "def CHIP_REGISTER():\r\n",
    "    from qiskit import IBMQ\r\n",
    "#−−−−−−−−−−−−−−−−−−−−−−−−−−−−−−−−−−−−−−−−−−−−−−−−−−−−−−−−−−−−−−−−−−−−−−−\r\n",
    "    # Você pode obter o seu token em:\r\n",
    "    # https://quantum-computing.ibm.com/\r\n",
    "    QX_TOKEN = \"cole seu token aqui\"\r\n",
    "    QX_URL = \"https://quantumexperience.ng.bluemix.net/api\"\r\n",
    "#−−−−−−−−−−−−−−−−−−−−−−−−−−−−−−−−−−−−−−−−−−−−−−−−−−−−−−−−−−−−−−−−−−−−−−−\r\n",
    "    try :\r\n",
    "        IBMQ.save_account(QX_TOKEN)\r\n",
    "        print('Registado com sucesso!')\r\n",
    "    except :\r\n",
    "        print('Algo deu errado. \\nVocê inseriu o token correto?')\r\n",
    "    return None\r\n",
    "#-----------------------------------------------------------------------\r\n",
    "CHIP_REGISTER()"
   ],
   "outputs": [
    {
     "output_type": "stream",
     "name": "stdout",
     "text": [
      " CHIP_REGISTER() DIZ:\n",
      " REGISTER OK\n"
     ]
    }
   ],
   "metadata": {}
  },
  {
   "cell_type": "code",
   "execution_count": 14,
   "source": [
    "# DANDO UMA OLHADA NOS BACKENDS:\r\n",
    "def CHECK_REMOTE_BACKENDS():\r\n",
    "    from qiskit import IBMQ\r\n",
    "    from qiskit.tools.monitor import backend_overview\r\n",
    "\r\n",
    "    print(' ARTIFICIAL:\\n',   IBMQ.backends( local = False, simulator = True) )\r\n",
    "    print('\\n CHIP REAL :\\n', IBMQ.backends( local = False, simulator = False) )\r\n",
    "\r\n",
    "    print(\"\\n BACKEND_OVERVIEW():\\n\")\r\n",
    "    backend_overview()\r\n",
    "\r\n",
    "    return None\r\n",
    "\r\n",
    "CHECK_REMOTE_BACKENDS()"
   ],
   "outputs": [
    {
     "output_type": "stream",
     "name": "stderr",
     "text": [
      "/home/warley/anaconda3/lib/python3.7/site-packages/qiskit/providers/ibmq/ibmqfactory.py:547: DeprecationWarning: IBMQ.backends() is being deprecated. Please use IBMQ.get_provider() to retrieve a provider and AccountProvider.backends() to find its backends.\n",
      "  DeprecationWarning)\n"
     ]
    },
    {
     "output_type": "stream",
     "name": "stdout",
     "text": [
      " ARTIFICIAL:\n",
      " [<IBMQSimulator('ibmq_qasm_simulator') from IBMQ(hub='ibm-q', group='open', project='main')>]\n",
      "\n",
      " CHIP REAL :\n",
      " [<IBMQBackend('ibmqx2') from IBMQ(hub='ibm-q', group='open', project='main')>, <IBMQBackend('ibmq_16_melbourne') from IBMQ(hub='ibm-q', group='open', project='main')>, <IBMQBackend('ibmq_vigo') from IBMQ(hub='ibm-q', group='open', project='main')>, <IBMQBackend('ibmq_ourense') from IBMQ(hub='ibm-q', group='open', project='main')>, <IBMQBackend('ibmq_valencia') from IBMQ(hub='ibm-q', group='open', project='main')>, <IBMQBackend('ibmq_armonk') from IBMQ(hub='ibm-q', group='open', project='main')>, <IBMQBackend('ibmq_athens') from IBMQ(hub='ibm-q', group='open', project='main')>, <IBMQBackend('ibmq_santiago') from IBMQ(hub='ibm-q', group='open', project='main')>]\n",
      "\n",
      " BACKEND_OVERVIEW():\n",
      "\n"
     ]
    },
    {
     "output_type": "stream",
     "name": "stderr",
     "text": [
      "/home/warley/anaconda3/lib/python3.7/site-packages/qiskit/providers/ibmq/ibmqfactory.py:547: DeprecationWarning: IBMQ.backends() is being deprecated. Please use IBMQ.get_provider() to retrieve a provider and AccountProvider.backends() to find its backends.\n",
      "  DeprecationWarning)\n"
     ]
    },
    {
     "output_type": "stream",
     "name": "stdout",
     "text": [
      "ibmq_santiago                ibmq_athens                  ibmq_armonk\n",
      "-------------                -----------                  -----------\n",
      "Num. Qubits:  5              Num. Qubits:  5              Num. Qubits:  1\n",
      "Pending Jobs: 20             Pending Jobs: 1              Pending Jobs: 10\n",
      "Least busy:   False          Least busy:   True           Least busy:   False\n",
      "Operational:  True           Operational:  True           Operational:  True\n",
      "Avg. T1:      137.6          Avg. T1:      77.7           Avg. T1:      133.1\n",
      "Avg. T2:      113.2          Avg. T2:      113.7          Avg. T2:      182.2\n",
      "\n",
      "\n",
      "\n",
      "ibmq_valencia                ibmq_ourense                 ibmq_vigo\n",
      "-------------                ------------                 ---------\n",
      "Num. Qubits:  5              Num. Qubits:  5              Num. Qubits:  5\n",
      "Pending Jobs: 2              Pending Jobs: 1              Pending Jobs: 24\n",
      "Least busy:   False          Least busy:   False          Least busy:   False\n",
      "Operational:  True           Operational:  True           Operational:  True\n",
      "Avg. T1:      106.2          Avg. T1:      103.8          Avg. T1:      101.6\n",
      "Avg. T2:      68.5           Avg. T2:      62.8           Avg. T2:      74.9\n",
      "\n",
      "\n",
      "\n",
      "ibmq_16_melbourne            ibmqx2\n",
      "-----------------            ------\n",
      "Num. Qubits:  15             Num. Qubits:  5\n",
      "Pending Jobs: 13             Pending Jobs: 23\n",
      "Least busy:   False          Least busy:   False\n",
      "Operational:  True           Operational:  True\n",
      "Avg. T1:      54.3           Avg. T1:      57.5\n",
      "Avg. T2:      65.0           Avg. T2:      39.9\n",
      "\n",
      "\n",
      "\n"
     ]
    }
   ],
   "metadata": {}
  },
  {
   "cell_type": "code",
   "execution_count": 15,
   "source": [
    "#------------------------------------------------------------------------\r\n",
    "# FUNCAO QUE EXECUTA O CIRCUITO NA MAQUINA REMOTA:\r\n",
    "#------------------------------------------------------------------------\r\n",
    "def SIMULADOR_REMOTO(QC, N_SHOTS, BACKEND_NAME):\r\n",
    "    from qiskit               import IBMQ\r\n",
    "    from qiskit               import execute\r\n",
    "    from qiskit.tools.monitor import job_monitor\r\n",
    "#--------------\r\n",
    "    F_NAME = '\\'SIMULADOR_REMOTO()\\''\r\n",
    "    BACKEND = IBMQ.get_backend(BACKEND_NAME)\r\n",
    "# METODO NOVO:\r\n",
    "#   PROVIDER = IBMQ.load_account()\r\n",
    "#   PROVIDER = IBMQ.enable_account('MY_API_TOKEN')\r\n",
    "#   BACKEND  = PROVIDER.get_backend(BACKEND_NAME)\r\n",
    "#--------------\r\n",
    "    STATUS  = BACKEND.status()\r\n",
    "    if( STATUS.operational == False ):\r\n",
    "        print(' FUNCAO %s DIZ:'% F_NAME )\r\n",
    "        print(' ESTE BACKEND NAO ESTA OPERACIONAL NO MOMENTO, VEJA:')\r\n",
    "        print(\"    STATUS.operational =\",  STATUS)\r\n",
    "        print(' ENCERRANDO'); return None\r\n",
    "#-----------------------------------------------------------------------\r\n",
    "    EXP = execute(QC, BACKEND, shots=N_SHOTS)\r\n",
    "    job_monitor(EXP, interval = 5)\r\n",
    "\r\n",
    "    RESULT = EXP.result()\r\n",
    "    print(' RESULTS:')\r\n",
    "    print('   backend_name:', RESULT.backend_name, end =' |')\r\n",
    "    print('   status:',       RESULT.status, end =' |')\r\n",
    "    print('   success:',      RESULT.success)\r\n",
    "    print('   get_counts():', RESULT.get_counts() ) # print(' get_data() = ',   result.get_data(qc) )\r\n",
    "#-----------------------------------------------------------------------\r\n",
    "    print(' ---------- FIM DA FUNCAO %s---------- '% F_NAME)\r\n",
    "    return RESULT.get_counts()"
   ],
   "outputs": [],
   "metadata": {}
  },
  {
   "cell_type": "code",
   "execution_count": 16,
   "source": [
    "# EXECUTANDO O CIRCUITO\r\n",
    "N_SHOTS = 2**(13);\r\n",
    "\r\n",
    "#BACKEND_NAME = \"ibmq_qasm_simulator\"; DADOS_qasm   = SIMULADOR_REMOTO(QC1, N_SHOTS, BACKEND_NAME);\r\n",
    "BACKEND_NAME = \"ibmqx2\";              DADOS_ibmqx2 = SIMULADOR_REMOTO(QC1, N_SHOTS, BACKEND_NAME);\r\n",
    "BACKEND_NAME = \"ibmq_ourense\";              DADOS_ibmq_ourense = SIMULADOR_REMOTO(QC1, N_SHOTS, BACKEND_NAME);\r\n",
    "BACKEND_NAME = \"ibmq_16_melbourne\";              DADOS_ibmq_16_melbourne = SIMULADOR_REMOTO(QC1, N_SHOTS, BACKEND_NAME);\r\n",
    "\r\n",
    "# BACKEND_NAME = \"ibmqx4\";\r\n",
    "# BACKEND_NAME = \"ibmq_16_melbourne\";\r\n",
    "\r\n",
    "PLOT_HISTOGRAMS( [ DADOS_ibmqx2, DADOS_ibmq_ourense, DADOS_ibmq_16_melbourne],  [ 'ibmqx2', 'ibmq_ourense', 'ibmq_16_melbourne'] );"
   ],
   "outputs": [
    {
     "output_type": "stream",
     "name": "stderr",
     "text": [
      "/home/warley/anaconda3/lib/python3.7/site-packages/qiskit/providers/ibmq/ibmqfactory.py:594: DeprecationWarning: IBMQ.get_backend() is being deprecated. Please use IBMQ.get_provider() to retrieve a provider and AccountProvider.get_backend(\"name\") to retrieve a backend.\n",
      "  DeprecationWarning)\n"
     ]
    },
    {
     "output_type": "stream",
     "name": "stdout",
     "text": [
      "Job Status: job has successfully run\n",
      " RESULTS:\n",
      "   backend_name: ibmqx2 |   status: Successful completion |   success: True\n",
      "   get_counts(): {'1': 7622, '0': 570}\n",
      " ---------- FIM DA FUNCAO 'SIMULADOR_REMOTO()'---------- \n"
     ]
    },
    {
     "output_type": "stream",
     "name": "stderr",
     "text": [
      "/home/warley/anaconda3/lib/python3.7/site-packages/qiskit/providers/ibmq/ibmqfactory.py:594: DeprecationWarning: IBMQ.get_backend() is being deprecated. Please use IBMQ.get_provider() to retrieve a provider and AccountProvider.get_backend(\"name\") to retrieve a backend.\n",
      "  DeprecationWarning)\n"
     ]
    },
    {
     "output_type": "stream",
     "name": "stdout",
     "text": [
      "Job Status: job has successfully run\n",
      " RESULTS:\n",
      "   backend_name: ibmq_ourense |   status: Successful completion |   success: True\n",
      "   get_counts(): {'1': 7774, '0': 418}\n",
      " ---------- FIM DA FUNCAO 'SIMULADOR_REMOTO()'---------- \n"
     ]
    },
    {
     "output_type": "stream",
     "name": "stderr",
     "text": [
      "/home/warley/anaconda3/lib/python3.7/site-packages/qiskit/providers/ibmq/ibmqfactory.py:594: DeprecationWarning: IBMQ.get_backend() is being deprecated. Please use IBMQ.get_provider() to retrieve a provider and AccountProvider.get_backend(\"name\") to retrieve a backend.\n",
      "  DeprecationWarning)\n"
     ]
    },
    {
     "output_type": "stream",
     "name": "stdout",
     "text": [
      "Job Status: job has successfully run\n",
      " RESULTS:\n",
      "   backend_name: ibmq_16_melbourne |   status: Successful completion |   success: True\n",
      "   get_counts(): {'1': 7566, '0': 626}\n",
      " ---------- FIM DA FUNCAO 'SIMULADOR_REMOTO()'---------- \n"
     ]
    },
    {
     "output_type": "display_data",
     "data": {
      "image/png": "[encoded data removed]",
      "text/plain": [
       "<Figure size 504x360 with 1 Axes>"
      ]
     },
     "metadata": {}
    }
   ],
   "metadata": {}
  },
  {
   "cell_type": "code",
   "execution_count": 17,
   "source": [
    "fig = plot_histogram( [DADOS_ibmqx2, DADOS_ibmq_ourense, DADOS_ibmq_16_melbourne], bar_labels = False, color= ['red','green','gray'], figsize = (10, 6) );\r\n",
    "ax = fig.axes[0]\r\n",
    "ax.patch.set_facecolor('white')\r\n",
    "ax.patch.set_alpha(0.5)\r\n",
    "ax.patch.set_edgecolor('black')\r\n",
    "ax.set_ylabel('Probabilidades', fontsize=26)\r\n",
    "ax.set_yticklabels([0.00, 0.25, 0.50, 0.75, 1.00], fontsize=20)\r\n",
    "ax.set_xticklabels([ r'$\\left\\vert 0 \\right\\rangle$' , r'$\\left\\vert 1 \\right\\rangle$' ], fontsize=20)\r\n",
    "fig.savefig('Hist_SQ_one_deutsch.png')"
   ],
   "outputs": [],
   "metadata": {}
  },
  {
   "cell_type": "code",
   "execution_count": 18,
   "source": [
    "# EXECUTANDO O CIRCUITO\r\n",
    "N_SHOTS = 2**(13);\r\n",
    "\r\n",
    "#BACKEND_NAME = \"ibmq_qasm_simulator\"; DADOS_qasm   = SIMULADOR_REMOTO(QC1, N_SHOTS, BACKEND_NAME);\r\n",
    "BACKEND_NAME = \"ibmqx2\";              DADOS_ibmqx2 = SIMULADOR_REMOTO(QC2, N_SHOTS, BACKEND_NAME);\r\n",
    "BACKEND_NAME = \"ibmq_ourense\";              DADOS_ibmq_ourense = SIMULADOR_REMOTO(QC2, N_SHOTS, BACKEND_NAME);\r\n",
    "BACKEND_NAME = \"ibmq_16_melbourne\";              DADOS_ibmq_16_melbourne = SIMULADOR_REMOTO(QC2, N_SHOTS, BACKEND_NAME);\r\n",
    "\r\n",
    "# BACKEND_NAME = \"ibmqx4\";\r\n",
    "# BACKEND_NAME = \"ibmq_16_melbourne\";\r\n",
    "\r\n",
    "PLOT_HISTOGRAMS( [ DADOS_ibmqx2, DADOS_ibmq_ourense, DADOS_ibmq_16_melbourne],  [ 'ibmqx2', 'ibmq_ourense', 'ibmq_16_melbourne'] );"
   ],
   "outputs": [
    {
     "output_type": "stream",
     "name": "stderr",
     "text": [
      "/home/warley/anaconda3/lib/python3.7/site-packages/qiskit/providers/ibmq/ibmqfactory.py:594: DeprecationWarning: IBMQ.get_backend() is being deprecated. Please use IBMQ.get_provider() to retrieve a provider and AccountProvider.get_backend(\"name\") to retrieve a backend.\n",
      "  DeprecationWarning)\n"
     ]
    },
    {
     "output_type": "stream",
     "name": "stdout",
     "text": [
      "Job Status: job has successfully run\n",
      " RESULTS:\n",
      "   backend_name: ibmqx2 |   status: Successful completion |   success: True\n",
      "   get_counts(): {'01': 1104, '10': 2633, '11': 4092, '00': 363}\n",
      " ---------- FIM DA FUNCAO 'SIMULADOR_REMOTO()'---------- \n"
     ]
    },
    {
     "output_type": "stream",
     "name": "stderr",
     "text": [
      "/home/warley/anaconda3/lib/python3.7/site-packages/qiskit/providers/ibmq/ibmqfactory.py:594: DeprecationWarning: IBMQ.get_backend() is being deprecated. Please use IBMQ.get_provider() to retrieve a provider and AccountProvider.get_backend(\"name\") to retrieve a backend.\n",
      "  DeprecationWarning)\n"
     ]
    },
    {
     "output_type": "stream",
     "name": "stdout",
     "text": [
      "Job Status: job has successfully run\n",
      " RESULTS:\n",
      "   backend_name: ibmq_ourense |   status: Successful completion |   success: True\n",
      "   get_counts(): {'01': 176, '10': 4292, '11': 3491, '00': 233}\n",
      " ---------- FIM DA FUNCAO 'SIMULADOR_REMOTO()'---------- \n"
     ]
    },
    {
     "output_type": "stream",
     "name": "stderr",
     "text": [
      "/home/warley/anaconda3/lib/python3.7/site-packages/qiskit/providers/ibmq/ibmqfactory.py:594: DeprecationWarning: IBMQ.get_backend() is being deprecated. Please use IBMQ.get_provider() to retrieve a provider and AccountProvider.get_backend(\"name\") to retrieve a backend.\n",
      "  DeprecationWarning)\n"
     ]
    },
    {
     "output_type": "stream",
     "name": "stdout",
     "text": [
      "Job Status: job has successfully run\n",
      " RESULTS:\n",
      "   backend_name: ibmq_16_melbourne |   status: Successful completion |   success: True\n",
      "   get_counts(): {'01': 300, '10': 4038, '11': 3493, '00': 361}\n",
      " ---------- FIM DA FUNCAO 'SIMULADOR_REMOTO()'---------- \n"
     ]
    },
    {
     "output_type": "display_data",
     "data": {
      "image/png": "[encoded data removed]",
      "text/plain": [
       "<Figure size 504x360 with 1 Axes>"
      ]
     },
     "metadata": {}
    }
   ],
   "metadata": {}
  },
  {
   "cell_type": "code",
   "execution_count": 19,
   "source": [
    "fig = plot_histogram( [DADOS_ibmqx2, DADOS_ibmq_ourense, DADOS_ibmq_16_melbourne], bar_labels = False, color= ['red','green','gray'], figsize = (10, 6) );\r\n",
    "ax = fig.axes[0]\r\n",
    "ax.patch.set_facecolor('white')\r\n",
    "ax.patch.set_alpha(0.5)\r\n",
    "ax.patch.set_edgecolor('black')\r\n",
    "ax.set_ylabel('Probabilidades', fontsize=26)\r\n",
    "ax.set_yticklabels([0.00, 0.15, 0.30, 0.45], fontsize=20)\r\n",
    "ax.set_xticklabels([r'$\\left\\vert00\\right\\rangle$', r'$\\left\\vert01\\right\\rangle$', r'$\\left\\vert10\\right\\rangle$', r'$\\left\\vert11\\right\\rangle$' ], fontsize=20)\r\n",
    "fig.savefig('Hist_SQ_two_deutsch.png')"
   ],
   "outputs": [],
   "metadata": {}
  },
  {
   "cell_type": "code",
   "execution_count": null,
   "source": [],
   "outputs": [],
   "metadata": {}
  }
 ],
 "metadata": {
  "kernelspec": {
   "display_name": "Python 3",
   "language": "python",
   "name": "python3"
  },
  "language_info": {
   "codemirror_mode": {
    "name": "ipython",
    "version": 3
   },
   "file_extension": ".py",
   "mimetype": "text/x-python",
   "name": "python",
   "nbconvert_exporter": "python",
   "pygments_lexer": "ipython3",
   "version": "3.7.3"
  }
 },
 "nbformat": 4,
 "nbformat_minor": 2
}