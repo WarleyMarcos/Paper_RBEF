{
 "cells": [
  {
   "cell_type": "markdown",
   "metadata": {},
   "source": [
    "## Queremos gerar e medir o seguinte estado:\n",
    "\n",
    "$$\\vert \\psi \\rangle =  \\frac{\\vert 00 \\rangle + \\vert 11 \\rangle}{\\sqrt{2}}$$\n",
    "\n",
    "Começamos importando o qiskit e em seguida criamos o circuito."
   ]
  },
  {
   "cell_type": "code",
   "execution_count": 1,
   "metadata": {},
   "outputs": [],
   "source": [
    "from qiskit import*"
   ]
  },
  {
   "cell_type": "code",
   "execution_count": 2,
   "metadata": {},
   "outputs": [],
   "source": [
    "nQ = 2 # <−− número de qubits\n",
    "nC = 2 # <−− número de bits clássicos\n",
    "Qr = QuantumRegister(nQ)\n",
    "Cr = ClassicalRegister(nC)"
   ]
  },
  {
   "cell_type": "code",
   "execution_count": 3,
   "metadata": {},
   "outputs": [],
   "source": [
    "circuit = QuantumCircuit(Qr , Cr )"
   ]
  },
  {
   "cell_type": "code",
   "execution_count": 4,
   "metadata": {},
   "outputs": [
    {
     "data": {
      "image/png": "[encoded data removed]",
      "text/plain": [
       "<Figure size 340.233x204.68 with 1 Axes>"
      ]
     },
     "execution_count": 4,
     "metadata": {},
     "output_type": "execute_result"
    }
   ],
   "source": [
    "# Porta Hadamard aplicada ao 1º qubit:\n",
    "circuit.h(0) \n",
    "\n",
    "# Porta CNOT: a ordem é controle, alvo:\n",
    "circuit.cx(0 , 1) \n",
    "\n",
    "# Medindo os dois qubits [0, 1], \n",
    "# os resultados são armazenados\n",
    "# em bits clássicos [0, 1] nesta ordem:\n",
    "circuit.measure([ 0 , 1 ] , [ 0 , 1 ]) \n",
    "\n",
    "# Desenha o circuito:\n",
    "circuit.draw(output='mpl')"
   ]
  },
  {
   "cell_type": "markdown",
   "metadata": {},
   "source": [
    "## Simulação na máquina local "
   ]
  },
  {
   "cell_type": "code",
   "execution_count": 5,
   "metadata": {},
   "outputs": [],
   "source": [
    "simulator = Aer.get_backend('qasm_simulator')"
   ]
  },
  {
   "cell_type": "code",
   "execution_count": 6,
   "metadata": {},
   "outputs": [],
   "source": [
    "result = execute( circuit , backend = simulator).result( )"
   ]
  },
  {
   "cell_type": "code",
   "execution_count": 7,
   "metadata": {},
   "outputs": [],
   "source": [
    "from qiskit.visualization import plot_histogram"
   ]
  },
  {
   "cell_type": "code",
   "execution_count": 8,
   "metadata": {},
   "outputs": [
    {
     "data": {
      "image/png": "[encoded data removed]",
      "text/plain": [
       "<Figure size 504x360 with 1 Axes>"
      ]
     },
     "execution_count": 8,
     "metadata": {},
     "output_type": "execute_result"
    }
   ],
   "source": [
    "plot_histogram( result.get_counts(circuit) )"
   ]
  },
  {
   "cell_type": "markdown",
   "metadata": {},
   "source": [
    "## Registrando-se na IBM Quantum Computing"
   ]
  },
  {
   "cell_type": "code",
   "execution_count": 9,
   "metadata": {},
   "outputs": [
    {
     "name": "stderr",
     "output_type": "stream",
     "text": [
      "configrc.store_credentials:WARNING:2021-09-01 13:00:30,253: Credentials already present. Set overwrite=True to overwrite.\n"
     ]
    },
    {
     "name": "stdout",
     "output_type": "stream",
     "text": [
      "Registado com sucesso!\n"
     ]
    }
   ],
   "source": [
    "# Registrando-se na IBM Quantum Computing\n",
    "from qiskit import IBMQ\n",
    "#−−−−−−−−−−−−−−−−−−−−−−−−−−−−−−−−−−−−−−−−−−−−−−−−−−−−−−−−−−−−−−−−−−−−−−−\n",
    "# Você pode obter o seu token em:\n",
    "# https://quantum-computing.ibm.com/\n",
    "QX_TOKEN = \"Cole seu token aqui\"\n",
    "QX_URL = \"https://quantumexperience.ng.bluemix.net/api\"\n",
    "#−−−−−−−−−−−−−−−−−−−−−−−−−−−−−−−−−−−−−−−−−−−−−−−−−−−−−−−−−−−−−−−−−−−−−−−\n",
    "try :\n",
    "    IBMQ.save_account(QX_TOKEN);\n",
    "    print('Registado com sucesso!')\n",
    "except :\n",
    "    print('Algo deu errado.\\nVocê inseriu o token correto?')"
   ]
  },
  {
   "cell_type": "markdown",
   "metadata": {},
   "source": [
    "## Agora vem a parte divertida, que é executar o circuito que construímos em um computador quântico. Existem varios dispositivos quânticos que a IBM disponibiliza o acesso via nuvem. Para usar esses dispositivos, primeiro teremos que carregar uma conta IBMQ."
   ]
  },
  {
   "cell_type": "code",
   "execution_count": 10,
   "metadata": {},
   "outputs": [
    {
     "data": {
      "text/plain": [
       "<AccountProvider for IBMQ(hub='ibm-q', group='open', project='main')>"
      ]
     },
     "execution_count": 10,
     "metadata": {},
     "output_type": "execute_result"
    }
   ],
   "source": [
    "IBMQ.load_account()"
   ]
  },
  {
   "cell_type": "markdown",
   "metadata": {},
   "source": [
    "## Verificando as máquinas disponíveis: "
   ]
  },
  {
   "cell_type": "code",
   "execution_count": 11,
   "metadata": {},
   "outputs": [
    {
     "name": "stdout",
     "output_type": "stream",
     "text": [
      "ibmq_manila                  ibmq_quito                   ibmq_belem\n",
      "-----------                  ----------                   ----------\n",
      "Num. Qubits:  5              Num. Qubits:  5              Num. Qubits:  5\n",
      "Pending Jobs: 1              Pending Jobs: 6              Pending Jobs: 6\n",
      "Least busy:   True           Least busy:   False          Least busy:   False\n",
      "Operational:  True           Operational:  True           Operational:  True\n",
      "Avg. T1:      129.9          Avg. T1:      88.8           Avg. T1:      94.2\n",
      "Avg. T2:      62.7           Avg. T2:      104.0          Avg. T2:      122.4\n",
      "\n",
      "\n",
      "\n",
      "ibmq_lima                    ibmq_bogota                  ibmq_santiago\n",
      "---------                    -----------                  -------------\n",
      "Num. Qubits:  5              Num. Qubits:  5              Num. Qubits:  5\n",
      "Pending Jobs: 58             Pending Jobs: 1402           Pending Jobs: 20\n",
      "Least busy:   False          Least busy:   False          Least busy:   False\n",
      "Operational:  True           Operational:  True           Operational:  True\n",
      "Avg. T1:      74.2           Avg. T1:      92.1           Avg. T1:      76.1\n",
      "Avg. T2:      84.0           Avg. T2:      127.6          Avg. T2:      97.0\n",
      "\n",
      "\n",
      "\n",
      "ibmq_armonk\n",
      "-----------\n",
      "Num. Qubits:  1\n",
      "Pending Jobs: 27\n",
      "Least busy:   False\n",
      "Operational:  True\n",
      "Avg. T1:      172.4\n",
      "Avg. T2:      260.9\n",
      "\n",
      "\n",
      "\n"
     ]
    }
   ],
   "source": [
    "from qiskit.tools.monitor import  backend_overview\n",
    "\n",
    "backend_overview()"
   ]
  },
  {
   "cell_type": "markdown",
   "metadata": {},
   "source": [
    "A seguir, teremos que fornecer detalhes do provedor IBMQ e do computador quântico que escolhemos para executar nosso circuito."
   ]
  },
  {
   "cell_type": "code",
   "execution_count": 12,
   "metadata": {},
   "outputs": [],
   "source": [
    "provider=IBMQ.get_provider('ibm-q')\n",
    "quantum_computer=provider.get_backend('ibmqx2')"
   ]
  },
  {
   "cell_type": "markdown",
   "metadata": {},
   "source": [
    "Usamos a função execute() para executar nosso circuito quântico usando ibmq_belem como nosso back-end:"
   ]
  },
  {
   "cell_type": "code",
   "execution_count": 13,
   "metadata": {},
   "outputs": [],
   "source": [
    "execute_circuit=execute(circuit,backend=quantum_computer)"
   ]
  },
  {
   "cell_type": "markdown",
   "metadata": {},
   "source": [
    "Para ver os resultados, basta executar o seguinte comando:"
   ]
  },
  {
   "cell_type": "code",
   "execution_count": 14,
   "metadata": {},
   "outputs": [],
   "source": [
    "result=execute_circuit.result()"
   ]
  },
  {
   "cell_type": "markdown",
   "metadata": {},
   "source": [
    "Para visualizar os resultados, execute o seguinte comando:"
   ]
  },
  {
   "cell_type": "code",
   "execution_count": 15,
   "metadata": {},
   "outputs": [
    {
     "data": {
      "image/png": "[encoded data removed]",
      "text/plain": [
       "<Figure size 504x360 with 1 Axes>"
      ]
     },
     "execution_count": 15,
     "metadata": {},
     "output_type": "execute_result"
    }
   ],
   "source": [
    "plot_histogram(result.get_counts(circuit))"
   ]
  },
  {
   "cell_type": "code",
   "execution_count": 16,
   "metadata": {},
   "outputs": [
    {
     "name": "stderr",
     "output_type": "stream",
     "text": [
      "C:\\Users\\warle\\anaconda3\\lib\\site-packages\\qiskit\\aqua\\__init__.py:86: DeprecationWarning: The package qiskit.aqua is deprecated. It was moved/refactored to qiskit-terra For more information see <https://github.com/Qiskit/qiskit-aqua/blob/main/README.md#migration-guide>\n",
      "  warn_package('aqua', 'qiskit-terra')\n"
     ]
    },
    {
     "data": {
      "text/html": [
       "<h3>Version Information</h3><table><tr><th>Qiskit Software</th><th>Version</th></tr><tr><td><code>qiskit-terra</code></td><td>0.18.1</td></tr><tr><td><code>qiskit-aer</code></td><td>0.8.2</td></tr><tr><td><code>qiskit-ignis</code></td><td>0.6.0</td></tr><tr><td><code>qiskit-ibmq-provider</code></td><td>0.16.0</td></tr><tr><td><code>qiskit-aqua</code></td><td>0.9.4</td></tr><tr><td><code>qiskit</code></td><td>0.29.0</td></tr><tr><th>System information</th></tr><tr><td>Python</td><td>3.8.5 (default, Sep  3 2020, 21:29:08) [MSC v.1916 64 bit (AMD64)]</td></tr><tr><td>OS</td><td>Windows</td></tr><tr><td>CPUs</td><td>2</td></tr><tr><td>Memory (Gb)</td><td>5.879158020019531</td></tr><tr><td colspan='2'>Wed Sep 01 13:27:17 2021 Hora oficial do Brasil</td></tr></table>"
      ],
      "text/plain": [
       "<IPython.core.display.HTML object>"
      ]
     },
     "metadata": {},
     "output_type": "display_data"
    }
   ],
   "source": [
    "import qiskit.tools.jupyter\n",
    "%qiskit_version_table"
   ]
  },
  {
   "cell_type": "code",
   "execution_count": null,
   "metadata": {},
   "outputs": [],
   "source": []
  }
 ],
 "metadata": {
  "kernelspec": {
   "display_name": "Python 3",
   "language": "python",
   "name": "python3"
  },
  "language_info": {
   "codemirror_mode": {
    "name": "ipython",
    "version": 3
   },
   "file_extension": ".py",
   "mimetype": "text/x-python",
   "name": "python",
   "nbconvert_exporter": "python",
   "pygments_lexer": "ipython3",
   "version": "3.8.5"
  }
 },
 "nbformat": 4,
 "nbformat_minor": 4
}
